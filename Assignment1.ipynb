{
 "cells": [
  {
   "cell_type": "code",
   "execution_count": 36,
   "id": "68a576d6",
   "metadata": {},
   "outputs": [
    {
     "name": "stdout",
     "output_type": "stream",
     "text": [
      "Minimum age is  19\n",
      "Maximum age is  26\n",
      "[19, 19, 20, 22, 24, 24, 24, 25, 25, 26, 19, 26]\n",
      "Median age 24.0\n",
      "Average age 22.75\n",
      "Range age 7\n"
     ]
    }
   ],
   "source": [
    "#Question 1\n",
    "\n",
    "ages = [19, 22, 19, 24, 20, 25, 26, 24, 25, 24]\n",
    "\n",
    "#Sort the list, display - min and max age\n",
    "ages.sort()\n",
    "\n",
    "minimum_age = ages[0]\n",
    "maximum_age = ages[-1]\n",
    "\n",
    "print(\"Minimum age is \", minimum_age)\n",
    "print(\"Maximum age is \", maximum_age)\n",
    "\n",
    "#Adds min and max age back to the list and prints updated list\n",
    "ages.append(minimum_age)\n",
    "ages.append(maximum_age)\n",
    "\n",
    "print(ages)\n",
    "\n",
    "#Median age(one middle item or two middle items divided by two)\n",
    "mid = len(ages)/2\n",
    "if len(ages) % 2 == 0:\n",
    "    median_value = (ages[int(mid)] + ages[int(mid - 1)]) / 2\n",
    "else:\n",
    "    median_value = ages[int(mid)]\n",
    "    \n",
    "print(\"Median age\", median_value)\n",
    "\n",
    "#Average age(sum of all items divided by their number)\n",
    "avg_age = sum(ages)/len(ages)\n",
    "\n",
    "print(\"Average age\", avg_age)\n",
    "\n",
    "#Range of the ages(max minus min)\n",
    "range_ages = maximum_age - minimum_age\n",
    "\n",
    "print(\"Range age\", range_ages)\n",
    "\n"
   ]
  },
  {
   "cell_type": "code",
   "execution_count": 11,
   "id": "2dd5598d",
   "metadata": {},
   "outputs": [
    {
     "name": "stdout",
     "output_type": "stream",
     "text": [
      "Dog dictionary dog:  {'name': 'Snoopy', 'color': 'Golden', 'breed': 'Golden Retriever', 'legs': 4, 'age': 2}\n",
      "Student dictionary student:  {'first_name': 'Sahil Naidu', 'last_name': 'Pagadala', 'gender': 'Male', 'age': 24, 'marital status': 'Single', 'skills': ['Sleeping', 'Curiosity'], 'country': 'India', 'city': 'Hyderabad', 'address': 'Aravind Nagar, Hyderabad, Telangana'}\n",
      "length of student dictionary  9\n",
      "Skills:  ['Sleeping', 'Curiosity']\n",
      "Data type of skills:  <class 'list'>\n",
      "['first_name', 'last_name', 'gender', 'age', 'marital status', 'skills', 'country', 'city', 'address']\n",
      "['Sahil Naidu', 'Pagadala', 'Male', 24, 'Single', ['Sleeping', 'Curiosity', 'Imagination'], 'India', 'Hyderabad', 'Aravind Nagar, Hyderabad, Telangana']\n"
     ]
    }
   ],
   "source": [
    "#Question 2\n",
    "\n",
    "#empty disctionary of dog\n",
    "dog = {}\n",
    "\n",
    "#Adding Name, color, breed, legs, age to dog\n",
    "dog['name']=\"Snoopy\"\n",
    "dog['color']=\"Golden\"\n",
    "dog['breed']=\"Golden Retriever\"\n",
    "dog['legs']=4\n",
    "dog['age']= 2\n",
    "\n",
    "print(\"Dog dictionary dog: \", dog)\n",
    "#dictionary named student and adding keys for dictionary\n",
    "student = {}\n",
    "student['first_name']= \"Sahil Naidu\"\n",
    "student['last_name']= \"Pagadala\"\n",
    "student['gender']= \"Male\"\n",
    "student['age']= 24\n",
    "student['marital status']= \"Single\"\n",
    "student['skills'] = [\"Sleeping\",\"Curiosity\"]\n",
    "student['country']= \"India\"\n",
    "student['city']= \"Hyderabad\"\n",
    "student['address']= \"Aravind Nagar, Hyderabad, Telangana\"\n",
    "\n",
    "print(\"Student dictionary student: \", student)\n",
    "\n",
    "#length of student dictionary\n",
    "print(\"length of student dictionary \", len(student))\n",
    "\n",
    "#Value of skills and data type\n",
    "print(\"Skills: \", student['skills'])\n",
    "print(\"Data type of skills: \", type(student['skills']))\n",
    "\n",
    "#Added one skill to list\n",
    "student['skills'].append('Imagination')\n",
    "\n",
    "#Dictionary keys as a list\n",
    "print(list(student.keys()))\n",
    "\n",
    "#Dictionary values a a list\n",
    "print(list(student.values()))\n",
    "\n"
   ]
  },
  {
   "cell_type": "code",
   "execution_count": 12,
   "id": "8457811f",
   "metadata": {},
   "outputs": [
    {
     "name": "stdout",
     "output_type": "stream",
     "text": [
      "Siblings:  ('Sandy', 'Candy', 'Bhendi', 'Iyer', 'Tarak Mehtha', 'Jhetalal')\n",
      "Number of siblings I have are 6\n",
      "('Sandy', 'Candy', 'Bhendi', 'Iyer', 'Tarak Mehtha', 'Jhetalal', 'Mrs.Gada', 'Mr.Gada')  Are a family.\n"
     ]
    }
   ],
   "source": [
    "#Question 3\n",
    "\n",
    "sisters = ('Sandy', 'Candy', 'Bhendi')\n",
    "brothers = ('Iyer', 'Tarak Mehtha', 'Jhetalal')\n",
    "\n",
    "#Joining brothers and sisters and assigning it to siblings\n",
    "siblings = sisters + brothers\n",
    "print(\"Siblings: \", siblings)\n",
    "\n",
    "#Number of siblings\n",
    "print(\"Number of siblings I have are\", len(siblings))\n",
    "\n",
    "#Modification by adding father and mother name and assigning it to family_members\n",
    "family_members = siblings + ('Mrs.Gada', 'Mr.Gada')\n",
    "print(family_members, \" Are a family.\")\n"
   ]
  },
  {
   "cell_type": "code",
   "execution_count": 52,
   "id": "f5ba487b",
   "metadata": {
    "scrolled": true
   },
   "outputs": [
    {
     "name": "stdout",
     "output_type": "stream",
     "text": [
      "Length of it_companies:  7\n",
      "{19, 20, 22, 24, 25, 26, 27, 28}\n",
      "{19, 20, 22, 24, 25, 26}\n",
      "True\n",
      "False\n",
      "{19, 20, 22, 24, 25, 26, 27, 28}\n",
      "{27, 28}\n"
     ]
    },
    {
     "data": {
      "text/plain": [
       "False"
      ]
     },
     "execution_count": 52,
     "metadata": {},
     "output_type": "execute_result"
    }
   ],
   "source": [
    "#Question 4\n",
    "\n",
    "it_companies = {'Facebook', 'Google', 'Microsoft', 'Apple', 'IBM', 'Oracle', 'Amazon'}\n",
    "A = {19, 22, 24, 20, 25, 26}\n",
    "B = {19, 22, 20, 25, 26, 24, 28, 27}\n",
    "age = [22, 19, 24, 25, 26, 24, 25, 24]\n",
    "\n",
    "#Length of set it_companies\n",
    "print(\"Length of it_companies: \", len(it_companies))\n",
    "\n",
    "#Adding twitter to set\n",
    "it_companies.add('Twitter')\n",
    "\n",
    "#Inserting multiple IT companies at once to set\n",
    "it_companies.update(['TCS', 'Wipro', 'Infosys'])\n",
    "\n",
    "#Removing one of the compinies from set\n",
    "it_companies.remove('Wipro')\n",
    "\n",
    "#Difference between remove and discard\n",
    "#Remove - throws error if particular element is not present\n",
    "#discard - does't throw error if element is not present\n",
    "\n",
    "#Join A and B\n",
    "print(A.union(B))\n",
    "\n",
    "#A intersection B\n",
    "print(A.intersection(B))\n",
    "\n",
    "#A subset of B?  displays a boolean value\n",
    "print(A.issubset(B))\n",
    "\n",
    "#A and B disjoint\n",
    "print(A.isdisjoint(B))\n",
    "\n",
    "#Joining A with B and B with A\n",
    "print(A.union(B) and B.union(A))\n",
    "\n",
    "#Symmetric difference between A and B\n",
    "print(A.symmetric_difference(B))\n",
    "\n",
    "#Deleting the sets completely\n",
    "del A\n",
    "del B\n",
    "\n",
    "#Converting the ages to a set and compare the length of the list and the set.\n",
    "age_set = set(age)\n",
    "len(age) == len(age_set)"
   ]
  },
  {
   "cell_type": "code",
   "execution_count": 57,
   "id": "ac5a740e",
   "metadata": {},
   "outputs": [
    {
     "name": "stdout",
     "output_type": "stream",
     "text": [
      "Enter the radius of circle: 10.2\n",
      "326.69 64.06\n"
     ]
    }
   ],
   "source": [
    "#Question 5\n",
    "\n",
    "radius = 30\n",
    "pi = 3.14\n",
    "\n",
    "#Area of circle\n",
    "_area_of_circle_ = pi * (radius * radius)\n",
    "\n",
    "#Circumference of circle\n",
    "_circum_of_circle_ = 2 * pi * radius\n",
    "\n",
    "#Taking radius as user input and calculate the area\n",
    "radius = float(input(\"Enter the radius of circle: \"))\n",
    "_area_of_circle_ = pi * (radius * radius)\n",
    "_circum_of_circle_ = 2 * pi * radius\n",
    "\n",
    "#Rounded of the to estimate an answer easily and quickly\n",
    "print(round(_area_of_circle_ , 2) , round(_circum_of_circle_ , 2))\n"
   ]
  },
  {
   "cell_type": "code",
   "execution_count": 60,
   "id": "c51d751a",
   "metadata": {},
   "outputs": [
    {
     "name": "stdout",
     "output_type": "stream",
     "text": [
      "{'teacher', 'people', 'am', 'love', 'a', 'and', 'I', 'inspire', 'teach', 'to'}\n"
     ]
    }
   ],
   "source": [
    "#Question 6\n",
    "\n",
    "#Usage of split methods and set to get unique words\n",
    "\n",
    "words = \"I am a teacher and I love to inspire and teach people\".split()\n",
    "unique_words = set(words)\n",
    "print(unique_words)\n"
   ]
  },
  {
   "cell_type": "code",
   "execution_count": 89,
   "id": "284d9aaf",
   "metadata": {},
   "outputs": [
    {
     "name": "stdout",
     "output_type": "stream",
     "text": [
      "Name      \tAge  \tCountry\t  City\n",
      "Asabehen\t250\tFinland\t  Helsinki\n"
     ]
    }
   ],
   "source": [
    "#Question 7\n",
    "\n",
    "print(\"Name      \\tAge  \\tCountry\\t  City\")\n",
    "print(\"Asabehen\\t250\\tFinland\\t  Helsinki\")"
   ]
  },
  {
   "cell_type": "code",
   "execution_count": 95,
   "id": "9d13062f",
   "metadata": {},
   "outputs": [
    {
     "name": "stdout",
     "output_type": "stream",
     "text": [
      "The area of a circle with radius 10 is 314 meters square.\n"
     ]
    }
   ],
   "source": [
    "#Question 8\n",
    "\n",
    "#Using the string formatting method to display\n",
    "\n",
    "radius =10\n",
    "area = int(3.14 * radius **2)\n",
    "print(\"The area of a circle with radius {} is {} meters square.\".format(radius,area))\n"
   ]
  },
  {
   "cell_type": "code",
   "execution_count": 6,
   "id": "6063464c",
   "metadata": {},
   "outputs": [
    {
     "name": "stdout",
     "output_type": "stream",
     "text": [
      "Enter the no. of students: 4\n",
      "Enter the weight of student in lbs: 150\n",
      "Enter the weight of student in lbs: 155\n",
      "Enter the weight of student in lbs: 145\n",
      "Enter the weight of student in lbs: 148\n",
      "Weights in lbs: [150, 155, 145, 148]\n",
      "Weights in kgs: [67.5, 69.75, 65.25, 66.60000000000001]\n"
     ]
    }
   ],
   "source": [
    "#Question 9\n",
    "\n",
    "N = int(input(\"Enter the no. of students: \"))\n",
    "\n",
    "L1 = []\n",
    "\n",
    "#Appending values to list L1\n",
    "for i in range(N):\n",
    "    wt = int(input(\"Enter the weight of student in lbs: \"))\n",
    "    L1.append(wt)\n",
    "\n",
    "print(\"Weights in lbs:\", L1)\n",
    "\n",
    "L2 = []\n",
    "\n",
    "#values of L1 converted to kg's and append it into L2 \n",
    "for j in L1:\n",
    "    kg = j * 0.45\n",
    "    L2.append(kg)\n",
    "\n",
    "    \n",
    "print(\"Weights in kgs:\", L2)"
   ]
  },
  {
   "cell_type": "code",
   "execution_count": null,
   "id": "ae92bf5b",
   "metadata": {},
   "outputs": [],
   "source": []
  }
 ],
 "metadata": {
  "kernelspec": {
   "display_name": "Python 3 (ipykernel)",
   "language": "python",
   "name": "python3"
  },
  "language_info": {
   "codemirror_mode": {
    "name": "ipython",
    "version": 3
   },
   "file_extension": ".py",
   "mimetype": "text/x-python",
   "name": "python",
   "nbconvert_exporter": "python",
   "pygments_lexer": "ipython3",
   "version": "3.9.13"
  }
 },
 "nbformat": 4,
 "nbformat_minor": 5
}
