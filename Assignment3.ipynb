{
 "cells": [
  {
   "cell_type": "code",
   "execution_count": 14,
   "id": "69b21fb0",
   "metadata": {},
   "outputs": [
    {
     "name": "stdout",
     "output_type": "stream",
     "text": [
      "Original array:  [10 15 19  8  4  4  1 11  2  9  1 20 19  2 13]\n"
     ]
    }
   ],
   "source": [
    "# a.Using NumPy create random vector of size 15 having only Integers in the range 1-20.\n",
    "import numpy as np\n",
    "rV = np.random.randint(low=1, high=21, size=15)\n",
    "print(\"Original array: \", rV)"
   ]
  },
  {
   "cell_type": "code",
   "execution_count": 15,
   "id": "93fa071a",
   "metadata": {},
   "outputs": [
    {
     "name": "stdout",
     "output_type": "stream",
     "text": [
      "Reshaped array: \n",
      "[[10 15 19  8  4]\n",
      " [ 4  1 11  2  9]\n",
      " [ 1 20 19  2 13]]\n"
     ]
    }
   ],
   "source": [
    "# a1. Reshape the array to 3 by 5\n",
    "array = rV.reshape(3,5)\n",
    "print(\"Reshaped array: \")\n",
    "print(array)"
   ]
  },
  {
   "cell_type": "code",
   "execution_count": 16,
   "id": "ce0d5c42",
   "metadata": {},
   "outputs": [
    {
     "name": "stdout",
     "output_type": "stream",
     "text": [
      "(3, 5)\n"
     ]
    }
   ],
   "source": [
    "# a2. Print array shape.\n",
    "array_shape = array.shape\n",
    "print(array_shape)"
   ]
  },
  {
   "cell_type": "code",
   "execution_count": 17,
   "id": "47aaac0e",
   "metadata": {},
   "outputs": [
    {
     "name": "stdout",
     "output_type": "stream",
     "text": [
      "Modified array:\n",
      "[[10 15  0  8  4]\n",
      " [ 4  1  0  2  9]\n",
      " [ 1  0 19  2 13]]\n"
     ]
    }
   ],
   "source": [
    "# a3. Replace the max in each row by 0\n",
    "max_indices = np.argmax(array, axis=1)\n",
    "array[np.arange(array.shape[0]), max_indices] = 0\n",
    "print(\"Modified array:\")\n",
    "print(array)"
   ]
  },
  {
   "cell_type": "code",
   "execution_count": 28,
   "id": "84f4c6cd",
   "metadata": {},
   "outputs": [
    {
     "name": "stdout",
     "output_type": "stream",
     "text": [
      "Shape of array: (4, 3)\n",
      "Type of array: <class 'numpy.ndarray'>\n",
      "Data type of array: int32\n"
     ]
    }
   ],
   "source": [
    "# Create a 2-dimensional array of size 4 x 3 (composed of 4-byte integer elements), also print the shape, type and data type\n",
    "# of the array\n",
    "import numpy as np\n",
    "arrayInQuestion2 = np.array([[1,2,3], [2,3,4], [3,4,5], [4,5,6]], dtype= np.int32)\n",
    "print(\"Shape of array:\", arrayInQuestion2.shape)\n",
    "print(\"Type of array:\", type(arrayInQuestion2))\n",
    "print(\"Data type of array:\", arrayInQuestion2.dtype)"
   ]
  },
  {
   "cell_type": "code",
   "execution_count": 18,
   "id": "9d4e5085",
   "metadata": {},
   "outputs": [
    {
     "name": "stdout",
     "output_type": "stream",
     "text": [
      "Eigenvalues:\n",
      "[2. 1.]\n",
      "\n",
      "Right Eigenvectors:\n",
      "[[0.89442719 0.70710678]\n",
      " [0.4472136  0.70710678]]\n"
     ]
    }
   ],
   "source": [
    "# b. Write a program to compute the eigenvalues and right eigenvectors of a given square array given below:\n",
    "## [[ 3 -2] [ 1 0]]\n",
    "\n",
    "arrayInQuestion2b = np.array([[3,-2], [1,0]])\n",
    "eigenValues, eigenVectors = np.linalg.eig(arrayInQuestion2b)\n",
    "print(\"Eigenvalues:\")\n",
    "print(eigenValues)\n",
    "print(\"\\nRight Eigenvectors:\")\n",
    "print(eigenVectors)"
   ]
  },
  {
   "cell_type": "code",
   "execution_count": 21,
   "id": "7f3acd2e",
   "metadata": {},
   "outputs": [
    {
     "name": "stdout",
     "output_type": "stream",
     "text": [
      "Sum of Diagonal Element: 4\n"
     ]
    }
   ],
   "source": [
    "# c. Compute the sum of the diagonal element of a given array.\n",
    "## [[0 1 2] [3 4 5]]\n",
    "\n",
    "arrayInQuestion2c = np.array([[0,1,2], [3,4,5]])\n",
    "sumOfDiagonalElement = np.trace(arrayInQuestion2c)\n",
    "print(\"Sum of Diagonal Element:\", sumOfDiagonalElement)"
   ]
  },
  {
   "cell_type": "code",
   "execution_count": 24,
   "id": "77abb122",
   "metadata": {},
   "outputs": [
    {
     "name": "stdout",
     "output_type": "stream",
     "text": [
      "Reshaping 3x2 to 2x3 \n",
      " [[1 2 3]\n",
      " [4 5 6]]\n",
      "Reshaping 2x3 to 3x2 \n",
      " [[1 2]\n",
      " [3 4]\n",
      " [5 6]]\n"
     ]
    }
   ],
   "source": [
    "# Write a NumPy program to create a new shape to an array without changing its data.\n",
    "# Reshape 3x2: \n",
    "# [[1 2]       \n",
    "# [3 4]\n",
    "# [5 6]]\n",
    "\n",
    "# Reshape 2x3:\n",
    "# [[1 2 3]\n",
    "# [4 5 6]]\n",
    "\n",
    "arrayInQuestion2d = np.array([[1,2], [3,4], [5,6]])\n",
    "reShape3By2 = arrayInQuestion2d.reshape(2,3)\n",
    "print(\"Reshaping 3x2 to 2x3 \\n\", reShape3By2)\n",
    "\n",
    "array2InQuestion2d = np.array([[1,2,3], [4,5,6]])\n",
    "reShape2By3 = array2InQuestion2d.reshape(3,2)\n",
    "print(\"Reshaping 2x3 to 3x2 \\n\", reShape2By3)\n"
   ]
  },
  {
   "cell_type": "code",
   "execution_count": null,
   "id": "99966422",
   "metadata": {},
   "outputs": [],
   "source": []
  }
 ],
 "metadata": {
  "kernelspec": {
   "display_name": "Python 3 (ipykernel)",
   "language": "python",
   "name": "python3"
  },
  "language_info": {
   "codemirror_mode": {
    "name": "ipython",
    "version": 3
   },
   "file_extension": ".py",
   "mimetype": "text/x-python",
   "name": "python",
   "nbconvert_exporter": "python",
   "pygments_lexer": "ipython3",
   "version": "3.11.5"
  }
 },
 "nbformat": 4,
 "nbformat_minor": 5
}
